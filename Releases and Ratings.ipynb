{
 "cells": [
  {
   "cell_type": "markdown",
   "metadata": {},
   "source": [
    "# Introduction"
   ]
  },
  {
   "cell_type": "markdown",
   "metadata": {},
   "source": [
    "### The dataset movielens"
   ]
  },
  {
   "cell_type": "markdown",
   "metadata": {},
   "source": [
    "This dataset (movielens) describes 5-star rating and free-text tagging activity from [MovieLens](http://movielens.org), a movie recommendation service. It contains 25000095 ratings and 1093360 tag applications across 62423 movies. These data were created by 162541 users between January 09, 1995 and November 21, 2019. This dataset was generated on November 21, 2019.\n",
    "\n",
    "Users were selected at random for inclusion. Each user is represented by an id, and no other information on the user is provided.\n",
    "\n",
    "The data are contained in the files `genome-scores.csv`, `genome-tags.csv`, `links.csv`, `movies.csv`, `ratings.csv` and `tags.csv`.\n",
    "\n",
    "This and other GroupLens data sets are publicly available for download at <http://grouplens.org/datasets/>.\n",
    "\n",
    "In this notebook, I will be using two CSV files:\n",
    "\n",
    "* **ratings.csv :** *userId*,*movieId*,*rating*, *timestamp*\n",
    "* **movies.csv :** *movieId*, *title*, *genres*"
   ]
  },
  {
   "cell_type": "markdown",
   "metadata": {},
   "source": [
    "### Aims and objectives"
   ]
  },
  {
   "cell_type": "markdown",
   "metadata": {},
   "source": [
    "The purpose of this notebook is to find out the:\n",
    "\n",
    "* mean ratings of each genre\n",
    "* number of releases of each genre\n",
    "* correlation between genre rating and genre release?\n",
    "\n",
    "and also have answers to questions like:\n",
    "\n",
    "* what is the most released movie genre?\n",
    "* what is the most rated movie genre?\n",
    "* will the general rating of a movie genre increase with increase in the number of its releases?\n"
   ]
  },
  {
   "cell_type": "markdown",
   "metadata": {},
   "source": [
    "### Importing python libraries"
   ]
  },
  {
   "cell_type": "code",
   "execution_count": 1,
   "metadata": {},
   "outputs": [],
   "source": [
    "%matplotlib inline\n",
    "import pandas as pd\n",
    "import matplotlib.pyplot as plt\n"
   ]
  },
  {
   "cell_type": "markdown",
   "metadata": {},
   "source": [
    "### Files in movielens"
   ]
  },
  {
   "cell_type": "markdown",
   "metadata": {},
   "source": [
    "Let us look at the files in this dataset using the UNIX command ls."
   ]
  },
  {
   "cell_type": "code",
   "execution_count": 2,
   "metadata": {},
   "outputs": [
    {
     "name": "stdout",
     "output_type": "stream",
     "text": [
      "Icon_\n",
      "README.txt\n",
      "genome-scores.csv\n",
      "genome-tags.csv\n",
      "links.csv\n",
      "movies.csv\n",
      "ratings.csv\n",
      "tags.csv\n"
     ]
    }
   ],
   "source": [
    "!ls ./movielens\n"
   ]
  },
  {
   "cell_type": "markdown",
   "metadata": {},
   "source": [
    "### Data ingestion"
   ]
  },
  {
   "cell_type": "markdown",
   "metadata": {},
   "source": [
    "Using the *read_csv* function in pandas, I will ingest these two files."
   ]
  },
  {
   "cell_type": "code",
   "execution_count": 3,
   "metadata": {},
   "outputs": [],
   "source": [
    "movies = pd.read_csv('./movielens/movies.csv', sep=',')\n",
    "ratings = pd.read_csv('./movielens/ratings.csv', sep=',', parse_dates=['timestamp'])\n"
   ]
  },
  {
   "cell_type": "markdown",
   "metadata": {},
   "source": [
    "### The data provided has no missing values"
   ]
  },
  {
   "cell_type": "code",
   "execution_count": 4,
   "metadata": {},
   "outputs": [
    {
     "name": "stdout",
     "output_type": "stream",
     "text": [
      "False\n",
      "False\n"
     ]
    }
   ],
   "source": [
    "print(movies.isnull().any().any())# this shows False as there are no NaN\n",
    "print(ratings.isnull().any().any())# this shows False as there are no NaN\n"
   ]
  },
  {
   "cell_type": "code",
   "execution_count": 5,
   "metadata": {},
   "outputs": [
    {
     "name": "stdout",
     "output_type": "stream",
     "text": [
      "<class 'pandas.core.frame.DataFrame'>\n",
      " Shape of movies dataframe is:(62423, 3)\n"
     ]
    },
    {
     "data": {
      "text/html": [
       "<div>\n",
       "<style scoped>\n",
       "    .dataframe tbody tr th:only-of-type {\n",
       "        vertical-align: middle;\n",
       "    }\n",
       "\n",
       "    .dataframe tbody tr th {\n",
       "        vertical-align: top;\n",
       "    }\n",
       "\n",
       "    .dataframe thead th {\n",
       "        text-align: right;\n",
       "    }\n",
       "</style>\n",
       "<table border=\"1\" class=\"dataframe\">\n",
       "  <thead>\n",
       "    <tr style=\"text-align: right;\">\n",
       "      <th></th>\n",
       "      <th>movieId</th>\n",
       "      <th>title</th>\n",
       "      <th>genres</th>\n",
       "    </tr>\n",
       "  </thead>\n",
       "  <tbody>\n",
       "    <tr>\n",
       "      <th>16360</th>\n",
       "      <td>86536</td>\n",
       "      <td>High School (1968)</td>\n",
       "      <td>Documentary</td>\n",
       "    </tr>\n",
       "    <tr>\n",
       "      <th>27952</th>\n",
       "      <td>130566</td>\n",
       "      <td>Deadly Encounter (1982)</td>\n",
       "      <td>Action|Drama|Thriller</td>\n",
       "    </tr>\n",
       "    <tr>\n",
       "      <th>39589</th>\n",
       "      <td>157551</td>\n",
       "      <td>Billa (2007)</td>\n",
       "      <td>Action|Romance|Thriller</td>\n",
       "    </tr>\n",
       "    <tr>\n",
       "      <th>16216</th>\n",
       "      <td>85728</td>\n",
       "      <td>Second Civil War, The (1997)</td>\n",
       "      <td>Comedy|Drama</td>\n",
       "    </tr>\n",
       "    <tr>\n",
       "      <th>48575</th>\n",
       "      <td>176951</td>\n",
       "      <td>Mülheim/Ruhr (1964)</td>\n",
       "      <td>Documentary</td>\n",
       "    </tr>\n",
       "  </tbody>\n",
       "</table>\n",
       "</div>"
      ],
      "text/plain": [
       "       movieId                         title                   genres\n",
       "16360    86536            High School (1968)              Documentary\n",
       "27952   130566       Deadly Encounter (1982)    Action|Drama|Thriller\n",
       "39589   157551                  Billa (2007)  Action|Romance|Thriller\n",
       "16216    85728  Second Civil War, The (1997)             Comedy|Drama\n",
       "48575   176951           Mülheim/Ruhr (1964)              Documentary"
      ]
     },
     "execution_count": 5,
     "metadata": {},
     "output_type": "execute_result"
    }
   ],
   "source": [
    "print(f\"{type(movies)}\\n Shape of movies dataframe is:{movies.shape}\")\n",
    "\n",
    "# printing five randomly selected rows of the movies dataset\n",
    "movies.sample(n=5,random_state=111)\n"
   ]
  },
  {
   "cell_type": "code",
   "execution_count": 6,
   "metadata": {},
   "outputs": [
    {
     "name": "stdout",
     "output_type": "stream",
     "text": [
      "Shape of movies dataframe is:(62423, 3)\n"
     ]
    },
    {
     "data": {
      "text/html": [
       "<div>\n",
       "<style scoped>\n",
       "    .dataframe tbody tr th:only-of-type {\n",
       "        vertical-align: middle;\n",
       "    }\n",
       "\n",
       "    .dataframe tbody tr th {\n",
       "        vertical-align: top;\n",
       "    }\n",
       "\n",
       "    .dataframe thead th {\n",
       "        text-align: right;\n",
       "    }\n",
       "</style>\n",
       "<table border=\"1\" class=\"dataframe\">\n",
       "  <thead>\n",
       "    <tr style=\"text-align: right;\">\n",
       "      <th></th>\n",
       "      <th>userId</th>\n",
       "      <th>movieId</th>\n",
       "      <th>rating</th>\n",
       "      <th>timestamp</th>\n",
       "    </tr>\n",
       "  </thead>\n",
       "  <tbody>\n",
       "    <tr>\n",
       "      <th>22665120</th>\n",
       "      <td>147313</td>\n",
       "      <td>67734</td>\n",
       "      <td>3.0</td>\n",
       "      <td>1524618277</td>\n",
       "    </tr>\n",
       "    <tr>\n",
       "      <th>9656559</th>\n",
       "      <td>62681</td>\n",
       "      <td>5463</td>\n",
       "      <td>4.5</td>\n",
       "      <td>1054385853</td>\n",
       "    </tr>\n",
       "    <tr>\n",
       "      <th>3240876</th>\n",
       "      <td>21390</td>\n",
       "      <td>3408</td>\n",
       "      <td>3.0</td>\n",
       "      <td>968622105</td>\n",
       "    </tr>\n",
       "    <tr>\n",
       "      <th>4790417</th>\n",
       "      <td>31279</td>\n",
       "      <td>56339</td>\n",
       "      <td>3.5</td>\n",
       "      <td>1572008353</td>\n",
       "    </tr>\n",
       "    <tr>\n",
       "      <th>14660786</th>\n",
       "      <td>94836</td>\n",
       "      <td>8970</td>\n",
       "      <td>3.5</td>\n",
       "      <td>1129788905</td>\n",
       "    </tr>\n",
       "  </tbody>\n",
       "</table>\n",
       "</div>"
      ],
      "text/plain": [
       "          userId  movieId  rating   timestamp\n",
       "22665120  147313    67734     3.0  1524618277\n",
       "9656559    62681     5463     4.5  1054385853\n",
       "3240876    21390     3408     3.0   968622105\n",
       "4790417    31279    56339     3.5  1572008353\n",
       "14660786   94836     8970     3.5  1129788905"
      ]
     },
     "execution_count": 6,
     "metadata": {},
     "output_type": "execute_result"
    }
   ],
   "source": [
    "print(f\"Shape of movies dataframe is:{movies.shape}\")\n",
    "\n",
    "# printing five randomly selected rows of the ratings dataset\n",
    "ratings.sample(n=5,random_state=111)\n"
   ]
  },
  {
   "cell_type": "markdown",
   "metadata": {},
   "source": [
    "# Generating Dataframes"
   ]
  },
  {
   "cell_type": "markdown",
   "metadata": {},
   "source": [
    "### number_of_release"
   ]
  },
  {
   "cell_type": "code",
   "execution_count": 7,
   "metadata": {},
   "outputs": [
    {
     "name": "stdout",
     "output_type": "stream",
     "text": [
      "<class 'pandas.core.frame.DataFrame'>\n",
      "RangeIndex: 20 entries, 0 to 19\n",
      "Data columns (total 2 columns):\n",
      " #   Column    Non-Null Count  Dtype \n",
      "---  ------    --------------  ----- \n",
      " 0   genres    20 non-null     object\n",
      " 1   releases  20 non-null     int64 \n",
      "dtypes: int64(1), object(1)\n",
      "memory usage: 448.0+ bytes\n"
     ]
    }
   ],
   "source": [
    "# defining function that will return a dataframe with the genre and release as columns\n",
    "\n",
    "def  count_genre(x):\n",
    "    # splitting the genres using the delimiter '|'\n",
    "    data_plot = movies[x].str.cat(sep = '|')\n",
    "    data = pd.Series(data_plot.split('|'))\n",
    "    info = data.value_counts(ascending=False)\n",
    "    info = data.value_counts(ascending=False).apply(pd.Series)\n",
    "    infos=info.reset_index() # resetting the index\n",
    "    infos.columns = ['genres','releases']# giving the columns names\n",
    "    return infos # this will return the genres and the number of release\n",
    "\n",
    "number_of_release = count_genre(\"genres\")\n",
    "\n",
    "#     information on the number_of_release dataframe\n",
    "number_of_release.info()\n"
   ]
  },
  {
   "cell_type": "code",
   "execution_count": 8,
   "metadata": {},
   "outputs": [
    {
     "data": {
      "text/html": [
       "<div>\n",
       "<style scoped>\n",
       "    .dataframe tbody tr th:only-of-type {\n",
       "        vertical-align: middle;\n",
       "    }\n",
       "\n",
       "    .dataframe tbody tr th {\n",
       "        vertical-align: top;\n",
       "    }\n",
       "\n",
       "    .dataframe thead th {\n",
       "        text-align: right;\n",
       "    }\n",
       "</style>\n",
       "<table border=\"1\" class=\"dataframe\">\n",
       "  <thead>\n",
       "    <tr style=\"text-align: right;\">\n",
       "      <th></th>\n",
       "      <th>genres</th>\n",
       "      <th>releases</th>\n",
       "    </tr>\n",
       "  </thead>\n",
       "  <tbody>\n",
       "    <tr>\n",
       "      <th>0</th>\n",
       "      <td>Drama</td>\n",
       "      <td>25606</td>\n",
       "    </tr>\n",
       "    <tr>\n",
       "      <th>1</th>\n",
       "      <td>Comedy</td>\n",
       "      <td>16870</td>\n",
       "    </tr>\n",
       "    <tr>\n",
       "      <th>2</th>\n",
       "      <td>Thriller</td>\n",
       "      <td>8654</td>\n",
       "    </tr>\n",
       "    <tr>\n",
       "      <th>3</th>\n",
       "      <td>Romance</td>\n",
       "      <td>7719</td>\n",
       "    </tr>\n",
       "    <tr>\n",
       "      <th>4</th>\n",
       "      <td>Action</td>\n",
       "      <td>7348</td>\n",
       "    </tr>\n",
       "    <tr>\n",
       "      <th>5</th>\n",
       "      <td>Horror</td>\n",
       "      <td>5989</td>\n",
       "    </tr>\n",
       "    <tr>\n",
       "      <th>6</th>\n",
       "      <td>Documentary</td>\n",
       "      <td>5605</td>\n",
       "    </tr>\n",
       "    <tr>\n",
       "      <th>7</th>\n",
       "      <td>Crime</td>\n",
       "      <td>5319</td>\n",
       "    </tr>\n",
       "    <tr>\n",
       "      <th>8</th>\n",
       "      <td>(no genres listed)</td>\n",
       "      <td>5062</td>\n",
       "    </tr>\n",
       "    <tr>\n",
       "      <th>9</th>\n",
       "      <td>Adventure</td>\n",
       "      <td>4145</td>\n",
       "    </tr>\n",
       "    <tr>\n",
       "      <th>10</th>\n",
       "      <td>Sci-Fi</td>\n",
       "      <td>3595</td>\n",
       "    </tr>\n",
       "    <tr>\n",
       "      <th>11</th>\n",
       "      <td>Children</td>\n",
       "      <td>2935</td>\n",
       "    </tr>\n",
       "    <tr>\n",
       "      <th>12</th>\n",
       "      <td>Animation</td>\n",
       "      <td>2929</td>\n",
       "    </tr>\n",
       "    <tr>\n",
       "      <th>13</th>\n",
       "      <td>Mystery</td>\n",
       "      <td>2925</td>\n",
       "    </tr>\n",
       "    <tr>\n",
       "      <th>14</th>\n",
       "      <td>Fantasy</td>\n",
       "      <td>2731</td>\n",
       "    </tr>\n",
       "    <tr>\n",
       "      <th>15</th>\n",
       "      <td>War</td>\n",
       "      <td>1874</td>\n",
       "    </tr>\n",
       "    <tr>\n",
       "      <th>16</th>\n",
       "      <td>Western</td>\n",
       "      <td>1399</td>\n",
       "    </tr>\n",
       "    <tr>\n",
       "      <th>17</th>\n",
       "      <td>Musical</td>\n",
       "      <td>1054</td>\n",
       "    </tr>\n",
       "    <tr>\n",
       "      <th>18</th>\n",
       "      <td>Film-Noir</td>\n",
       "      <td>353</td>\n",
       "    </tr>\n",
       "    <tr>\n",
       "      <th>19</th>\n",
       "      <td>IMAX</td>\n",
       "      <td>195</td>\n",
       "    </tr>\n",
       "  </tbody>\n",
       "</table>\n",
       "</div>"
      ],
      "text/plain": [
       "                genres  releases\n",
       "0                Drama     25606\n",
       "1               Comedy     16870\n",
       "2             Thriller      8654\n",
       "3              Romance      7719\n",
       "4               Action      7348\n",
       "5               Horror      5989\n",
       "6          Documentary      5605\n",
       "7                Crime      5319\n",
       "8   (no genres listed)      5062\n",
       "9            Adventure      4145\n",
       "10              Sci-Fi      3595\n",
       "11            Children      2935\n",
       "12           Animation      2929\n",
       "13             Mystery      2925\n",
       "14             Fantasy      2731\n",
       "15                 War      1874\n",
       "16             Western      1399\n",
       "17             Musical      1054\n",
       "18           Film-Noir       353\n",
       "19                IMAX       195"
      ]
     },
     "execution_count": 8,
     "metadata": {},
     "output_type": "execute_result"
    }
   ],
   "source": [
    "# printing the dataframe number_of_release \n",
    "number_of_release\n"
   ]
  },
  {
   "cell_type": "markdown",
   "metadata": {},
   "source": [
    "### ploting number_of_release"
   ]
  },
  {
   "cell_type": "code",
   "execution_count": 9,
   "metadata": {},
   "outputs": [
    {
     "data": {
      "image/png": "[encoded data removed]",
      "text/plain": [
       "<Figure size 432x288 with 1 Axes>"
      ]
     },
     "metadata": {
      "needs_background": "light"
     },
     "output_type": "display_data"
    },
    {
     "data": {
      "image/png": "[encoded data removed]",
      "text/plain": [
       "<Figure size 720x720 with 1 Axes>"
      ]
     },
     "metadata": {
      "needs_background": "light"
     },
     "output_type": "display_data"
    }
   ],
   "source": [
    "# Label the axes\n",
    "plt.xlabel('Number of Releases')\n",
    "plt.ylabel('Genres')\n",
    "X = number_of_release['genres']\n",
    "Y =  number_of_release['releases']\n",
    "\n",
    "#label the figure\n",
    "plt.title('Genre Releases')\n",
    "plt.figure(figsize=(10,10))\n",
    "plt.barh(X,Y)\n",
    "\n",
    "plt.grid(True)\n",
    "\n",
    "plt.show()"
   ]
  },
  {
   "cell_type": "markdown",
   "metadata": {},
   "source": [
    "### mean_genre_ratings"
   ]
  },
  {
   "cell_type": "code",
   "execution_count": 10,
   "metadata": {},
   "outputs": [
    {
     "data": {
      "text/html": [
       "<div>\n",
       "<style scoped>\n",
       "    .dataframe tbody tr th:only-of-type {\n",
       "        vertical-align: middle;\n",
       "    }\n",
       "\n",
       "    .dataframe tbody tr th {\n",
       "        vertical-align: top;\n",
       "    }\n",
       "\n",
       "    .dataframe thead th {\n",
       "        text-align: right;\n",
       "    }\n",
       "</style>\n",
       "<table border=\"1\" class=\"dataframe\">\n",
       "  <thead>\n",
       "    <tr style=\"text-align: right;\">\n",
       "      <th></th>\n",
       "      <th>movieId</th>\n",
       "      <th>title</th>\n",
       "      <th>genres</th>\n",
       "      <th>rating</th>\n",
       "    </tr>\n",
       "  </thead>\n",
       "  <tbody>\n",
       "    <tr>\n",
       "      <th>16360</th>\n",
       "      <td>86536</td>\n",
       "      <td>High School (1968)</td>\n",
       "      <td>Documentary</td>\n",
       "      <td>5.0</td>\n",
       "    </tr>\n",
       "    <tr>\n",
       "      <th>27952</th>\n",
       "      <td>130566</td>\n",
       "      <td>Deadly Encounter (1982)</td>\n",
       "      <td>Action|Drama|Thriller</td>\n",
       "      <td>3.0</td>\n",
       "    </tr>\n",
       "    <tr>\n",
       "      <th>39589</th>\n",
       "      <td>157551</td>\n",
       "      <td>Billa (2007)</td>\n",
       "      <td>Action|Romance|Thriller</td>\n",
       "      <td>3.0</td>\n",
       "    </tr>\n",
       "    <tr>\n",
       "      <th>16216</th>\n",
       "      <td>85728</td>\n",
       "      <td>Second Civil War, The (1997)</td>\n",
       "      <td>Comedy|Drama</td>\n",
       "      <td>4.0</td>\n",
       "    </tr>\n",
       "    <tr>\n",
       "      <th>48575</th>\n",
       "      <td>176951</td>\n",
       "      <td>Mülheim/Ruhr (1964)</td>\n",
       "      <td>Documentary</td>\n",
       "      <td>2.0</td>\n",
       "    </tr>\n",
       "  </tbody>\n",
       "</table>\n",
       "</div>"
      ],
      "text/plain": [
       "       movieId                         title                   genres  rating\n",
       "16360    86536            High School (1968)              Documentary     5.0\n",
       "27952   130566       Deadly Encounter (1982)    Action|Drama|Thriller     3.0\n",
       "39589   157551                  Billa (2007)  Action|Romance|Thriller     3.0\n",
       "16216    85728  Second Civil War, The (1997)             Comedy|Drama     4.0\n",
       "48575   176951           Mülheim/Ruhr (1964)              Documentary     2.0"
      ]
     },
     "execution_count": 10,
     "metadata": {},
     "output_type": "execute_result"
    }
   ],
   "source": [
    "# adding rating to the movies' dataset\n",
    "movies_with_ratings = movies.assign(rating = ratings[\"rating\"])\n",
    "\n",
    "# to randomly select 5 samples\n",
    "movies_with_ratings.sample(n=5,random_state=111)\n"
   ]
  },
  {
   "cell_type": "code",
   "execution_count": 11,
   "metadata": {},
   "outputs": [
    {
     "name": "stdout",
     "output_type": "stream",
     "text": [
      "<class 'pandas.core.frame.DataFrame'>\n",
      "Int64Index: 20 entries, 0 to 19\n",
      "Data columns (total 2 columns):\n",
      " #   Column        Non-Null Count  Dtype  \n",
      "---  ------        --------------  -----  \n",
      " 0   genres        20 non-null     object \n",
      " 1   mean_ratings  20 non-null     float64\n",
      "dtypes: float64(1), object(1)\n",
      "memory usage: 480.0+ bytes\n"
     ]
    }
   ],
   "source": [
    "import warnings\n",
    "warnings.filterwarnings(\"ignore\",'This pattern has match groups')\n",
    "# to determine the mean ratings of each genre\n",
    "\n",
    "list1 = []; list2 = [];list3 = []\n",
    "for i,item in enumerate(number_of_release[\"genres\"]):\n",
    "    connect = movies_with_ratings['genres'].str.contains(item)\n",
    "    mean_rating = movies_with_ratings[connect][\"rating\"].mean()\n",
    "    list1.append(item)\n",
    "    list2.append(mean_rating)\n",
    "    list3.append(i)\n",
    "#     creating a dataframe mean_genre_ratings\n",
    "    mean_genre_ratings = dict(genres = list1,mean_ratings = list2)\n",
    "    mean_genre_ratings = pd.DataFrame(mean_genre_ratings, index = list3)\n",
    "    \n",
    "#     information on the mean_genre_ratings dataframe\n",
    "mean_genre_ratings.info()\n"
   ]
  },
  {
   "cell_type": "code",
   "execution_count": 12,
   "metadata": {},
   "outputs": [
    {
     "data": {
      "text/html": [
       "<div>\n",
       "<style scoped>\n",
       "    .dataframe tbody tr th:only-of-type {\n",
       "        vertical-align: middle;\n",
       "    }\n",
       "\n",
       "    .dataframe tbody tr th {\n",
       "        vertical-align: top;\n",
       "    }\n",
       "\n",
       "    .dataframe thead th {\n",
       "        text-align: right;\n",
       "    }\n",
       "</style>\n",
       "<table border=\"1\" class=\"dataframe\">\n",
       "  <thead>\n",
       "    <tr style=\"text-align: right;\">\n",
       "      <th></th>\n",
       "      <th>genres</th>\n",
       "      <th>mean_ratings</th>\n",
       "    </tr>\n",
       "  </thead>\n",
       "  <tbody>\n",
       "    <tr>\n",
       "      <th>0</th>\n",
       "      <td>Drama</td>\n",
       "      <td>3.571917</td>\n",
       "    </tr>\n",
       "    <tr>\n",
       "      <th>1</th>\n",
       "      <td>Comedy</td>\n",
       "      <td>3.579342</td>\n",
       "    </tr>\n",
       "    <tr>\n",
       "      <th>2</th>\n",
       "      <td>Thriller</td>\n",
       "      <td>3.600243</td>\n",
       "    </tr>\n",
       "    <tr>\n",
       "      <th>3</th>\n",
       "      <td>Romance</td>\n",
       "      <td>3.567496</td>\n",
       "    </tr>\n",
       "    <tr>\n",
       "      <th>4</th>\n",
       "      <td>Action</td>\n",
       "      <td>3.568318</td>\n",
       "    </tr>\n",
       "    <tr>\n",
       "      <th>5</th>\n",
       "      <td>Horror</td>\n",
       "      <td>3.603273</td>\n",
       "    </tr>\n",
       "    <tr>\n",
       "      <th>6</th>\n",
       "      <td>Documentary</td>\n",
       "      <td>3.615968</td>\n",
       "    </tr>\n",
       "    <tr>\n",
       "      <th>7</th>\n",
       "      <td>Crime</td>\n",
       "      <td>3.593251</td>\n",
       "    </tr>\n",
       "    <tr>\n",
       "      <th>8</th>\n",
       "      <td>(no genres listed)</td>\n",
       "      <td>3.591861</td>\n",
       "    </tr>\n",
       "    <tr>\n",
       "      <th>9</th>\n",
       "      <td>Adventure</td>\n",
       "      <td>3.572618</td>\n",
       "    </tr>\n",
       "    <tr>\n",
       "      <th>10</th>\n",
       "      <td>Sci-Fi</td>\n",
       "      <td>3.558414</td>\n",
       "    </tr>\n",
       "    <tr>\n",
       "      <th>11</th>\n",
       "      <td>Children</td>\n",
       "      <td>3.595571</td>\n",
       "    </tr>\n",
       "    <tr>\n",
       "      <th>12</th>\n",
       "      <td>Animation</td>\n",
       "      <td>3.584158</td>\n",
       "    </tr>\n",
       "    <tr>\n",
       "      <th>13</th>\n",
       "      <td>Mystery</td>\n",
       "      <td>3.606838</td>\n",
       "    </tr>\n",
       "    <tr>\n",
       "      <th>14</th>\n",
       "      <td>Fantasy</td>\n",
       "      <td>3.586781</td>\n",
       "    </tr>\n",
       "    <tr>\n",
       "      <th>15</th>\n",
       "      <td>War</td>\n",
       "      <td>3.560832</td>\n",
       "    </tr>\n",
       "    <tr>\n",
       "      <th>16</th>\n",
       "      <td>Western</td>\n",
       "      <td>3.647963</td>\n",
       "    </tr>\n",
       "    <tr>\n",
       "      <th>17</th>\n",
       "      <td>Musical</td>\n",
       "      <td>3.530361</td>\n",
       "    </tr>\n",
       "    <tr>\n",
       "      <th>18</th>\n",
       "      <td>Film-Noir</td>\n",
       "      <td>3.558074</td>\n",
       "    </tr>\n",
       "    <tr>\n",
       "      <th>19</th>\n",
       "      <td>IMAX</td>\n",
       "      <td>3.676923</td>\n",
       "    </tr>\n",
       "  </tbody>\n",
       "</table>\n",
       "</div>"
      ],
      "text/plain": [
       "                genres  mean_ratings\n",
       "0                Drama      3.571917\n",
       "1               Comedy      3.579342\n",
       "2             Thriller      3.600243\n",
       "3              Romance      3.567496\n",
       "4               Action      3.568318\n",
       "5               Horror      3.603273\n",
       "6          Documentary      3.615968\n",
       "7                Crime      3.593251\n",
       "8   (no genres listed)      3.591861\n",
       "9            Adventure      3.572618\n",
       "10              Sci-Fi      3.558414\n",
       "11            Children      3.595571\n",
       "12           Animation      3.584158\n",
       "13             Mystery      3.606838\n",
       "14             Fantasy      3.586781\n",
       "15                 War      3.560832\n",
       "16             Western      3.647963\n",
       "17             Musical      3.530361\n",
       "18           Film-Noir      3.558074\n",
       "19                IMAX      3.676923"
      ]
     },
     "execution_count": 12,
     "metadata": {},
     "output_type": "execute_result"
    }
   ],
   "source": [
    "mean_genre_ratings\n"
   ]
  },
  {
   "cell_type": "markdown",
   "metadata": {},
   "source": [
    "### ploting mean_genre_ratings"
   ]
  },
  {
   "cell_type": "code",
   "execution_count": 13,
   "metadata": {},
   "outputs": [
    {
     "data": {
      "image/png": "[encoded data removed]",
      "text/plain": [
       "<Figure size 432x288 with 1 Axes>"
      ]
     },
     "metadata": {
      "needs_background": "light"
     },
     "output_type": "display_data"
    },
    {
     "data": {
      "image/png": "[encoded data removed]",
      "text/plain": [
       "<Figure size 720x720 with 1 Axes>"
      ]
     },
     "metadata": {
      "needs_background": "light"
     },
     "output_type": "display_data"
    }
   ],
   "source": [
    "# Label the axes\n",
    "plt.xlabel('genres')\n",
    "plt.ylabel('mean ratings')\n",
    "\n",
    "#label the figure\n",
    "plt.title('Genres and mean ratings')\n",
    "plt.figure(figsize=(10,10))\n",
    "plt.plot(mean_genre_ratings['genres'].values, mean_genre_ratings['mean_ratings'].values)\n",
    "plt.xticks(rotation=45)\n",
    "\n",
    "plt.grid(True)\n",
    "\n",
    "plt.show()"
   ]
  },
  {
   "cell_type": "markdown",
   "metadata": {},
   "source": [
    "### generally"
   ]
  },
  {
   "cell_type": "markdown",
   "metadata": {},
   "source": [
    "Now we have generated two important dataframes\n",
    "\n",
    "* The genres and releases(number_of_release)\n",
    "* The genres and mean_ratings(mean_genre_ratings)\n"
   ]
  },
  {
   "cell_type": "markdown",
   "metadata": {},
   "source": [
    "# Correlation"
   ]
  },
  {
   "cell_type": "markdown",
   "metadata": {},
   "source": [
    "### Finding the correlation of `releases` and `mean_ratings`"
   ]
  },
  {
   "cell_type": "code",
   "execution_count": 14,
   "metadata": {},
   "outputs": [
    {
     "data": {
      "text/html": [
       "<div>\n",
       "<style scoped>\n",
       "    .dataframe tbody tr th:only-of-type {\n",
       "        vertical-align: middle;\n",
       "    }\n",
       "\n",
       "    .dataframe tbody tr th {\n",
       "        vertical-align: top;\n",
       "    }\n",
       "\n",
       "    .dataframe thead th {\n",
       "        text-align: right;\n",
       "    }\n",
       "</style>\n",
       "<table border=\"1\" class=\"dataframe\">\n",
       "  <thead>\n",
       "    <tr style=\"text-align: right;\">\n",
       "      <th></th>\n",
       "      <th>genres</th>\n",
       "      <th>releases</th>\n",
       "      <th>mean_ratings</th>\n",
       "    </tr>\n",
       "  </thead>\n",
       "  <tbody>\n",
       "    <tr>\n",
       "      <th>0</th>\n",
       "      <td>Drama</td>\n",
       "      <td>25606</td>\n",
       "      <td>3.571917</td>\n",
       "    </tr>\n",
       "    <tr>\n",
       "      <th>1</th>\n",
       "      <td>Comedy</td>\n",
       "      <td>16870</td>\n",
       "      <td>3.579342</td>\n",
       "    </tr>\n",
       "    <tr>\n",
       "      <th>2</th>\n",
       "      <td>Thriller</td>\n",
       "      <td>8654</td>\n",
       "      <td>3.600243</td>\n",
       "    </tr>\n",
       "    <tr>\n",
       "      <th>3</th>\n",
       "      <td>Romance</td>\n",
       "      <td>7719</td>\n",
       "      <td>3.567496</td>\n",
       "    </tr>\n",
       "    <tr>\n",
       "      <th>4</th>\n",
       "      <td>Action</td>\n",
       "      <td>7348</td>\n",
       "      <td>3.568318</td>\n",
       "    </tr>\n",
       "    <tr>\n",
       "      <th>5</th>\n",
       "      <td>Horror</td>\n",
       "      <td>5989</td>\n",
       "      <td>3.603273</td>\n",
       "    </tr>\n",
       "    <tr>\n",
       "      <th>6</th>\n",
       "      <td>Documentary</td>\n",
       "      <td>5605</td>\n",
       "      <td>3.615968</td>\n",
       "    </tr>\n",
       "    <tr>\n",
       "      <th>7</th>\n",
       "      <td>Crime</td>\n",
       "      <td>5319</td>\n",
       "      <td>3.593251</td>\n",
       "    </tr>\n",
       "    <tr>\n",
       "      <th>8</th>\n",
       "      <td>(no genres listed)</td>\n",
       "      <td>5062</td>\n",
       "      <td>3.591861</td>\n",
       "    </tr>\n",
       "    <tr>\n",
       "      <th>9</th>\n",
       "      <td>Adventure</td>\n",
       "      <td>4145</td>\n",
       "      <td>3.572618</td>\n",
       "    </tr>\n",
       "    <tr>\n",
       "      <th>10</th>\n",
       "      <td>Sci-Fi</td>\n",
       "      <td>3595</td>\n",
       "      <td>3.558414</td>\n",
       "    </tr>\n",
       "    <tr>\n",
       "      <th>11</th>\n",
       "      <td>Children</td>\n",
       "      <td>2935</td>\n",
       "      <td>3.595571</td>\n",
       "    </tr>\n",
       "    <tr>\n",
       "      <th>12</th>\n",
       "      <td>Animation</td>\n",
       "      <td>2929</td>\n",
       "      <td>3.584158</td>\n",
       "    </tr>\n",
       "    <tr>\n",
       "      <th>13</th>\n",
       "      <td>Mystery</td>\n",
       "      <td>2925</td>\n",
       "      <td>3.606838</td>\n",
       "    </tr>\n",
       "    <tr>\n",
       "      <th>14</th>\n",
       "      <td>Fantasy</td>\n",
       "      <td>2731</td>\n",
       "      <td>3.586781</td>\n",
       "    </tr>\n",
       "    <tr>\n",
       "      <th>15</th>\n",
       "      <td>War</td>\n",
       "      <td>1874</td>\n",
       "      <td>3.560832</td>\n",
       "    </tr>\n",
       "    <tr>\n",
       "      <th>16</th>\n",
       "      <td>Western</td>\n",
       "      <td>1399</td>\n",
       "      <td>3.647963</td>\n",
       "    </tr>\n",
       "    <tr>\n",
       "      <th>17</th>\n",
       "      <td>Musical</td>\n",
       "      <td>1054</td>\n",
       "      <td>3.530361</td>\n",
       "    </tr>\n",
       "    <tr>\n",
       "      <th>18</th>\n",
       "      <td>Film-Noir</td>\n",
       "      <td>353</td>\n",
       "      <td>3.558074</td>\n",
       "    </tr>\n",
       "    <tr>\n",
       "      <th>19</th>\n",
       "      <td>IMAX</td>\n",
       "      <td>195</td>\n",
       "      <td>3.676923</td>\n",
       "    </tr>\n",
       "  </tbody>\n",
       "</table>\n",
       "</div>"
      ],
      "text/plain": [
       "                genres  releases  mean_ratings\n",
       "0                Drama     25606      3.571917\n",
       "1               Comedy     16870      3.579342\n",
       "2             Thriller      8654      3.600243\n",
       "3              Romance      7719      3.567496\n",
       "4               Action      7348      3.568318\n",
       "5               Horror      5989      3.603273\n",
       "6          Documentary      5605      3.615968\n",
       "7                Crime      5319      3.593251\n",
       "8   (no genres listed)      5062      3.591861\n",
       "9            Adventure      4145      3.572618\n",
       "10              Sci-Fi      3595      3.558414\n",
       "11            Children      2935      3.595571\n",
       "12           Animation      2929      3.584158\n",
       "13             Mystery      2925      3.606838\n",
       "14             Fantasy      2731      3.586781\n",
       "15                 War      1874      3.560832\n",
       "16             Western      1399      3.647963\n",
       "17             Musical      1054      3.530361\n",
       "18           Film-Noir       353      3.558074\n",
       "19                IMAX       195      3.676923"
      ]
     },
     "execution_count": 14,
     "metadata": {},
     "output_type": "execute_result"
    }
   ],
   "source": [
    "# adding mean ratings to the number_of_release dataframe\n",
    "genres_with_ratings = number_of_release.assign(mean_ratings=mean_genre_ratings[\"mean_ratings\"])\n",
    "genres_with_ratings\n"
   ]
  },
  {
   "cell_type": "code",
   "execution_count": 15,
   "metadata": {},
   "outputs": [
    {
     "data": {
      "text/plain": [
       "-0.17218377081283845"
      ]
     },
     "execution_count": 15,
     "metadata": {},
     "output_type": "execute_result"
    }
   ],
   "source": [
    "# to find out the correlation between release and mean_rating\n",
    "genres_with_ratings['releases'].corr(genres_with_ratings['mean_ratings'])\n"
   ]
  },
  {
   "cell_type": "markdown",
   "metadata": {},
   "source": [
    "The negative in the value shows that `releases` and `mean_ratings` are negatively correlated."
   ]
  },
  {
   "cell_type": "markdown",
   "metadata": {},
   "source": [
    "### Ploting the correlation"
   ]
  },
  {
   "cell_type": "code",
   "execution_count": 16,
   "metadata": {},
   "outputs": [],
   "source": [
    "# defining a function that will plot the correlation\n",
    "def plot_scatter(df, x, y):\n",
    "    fig,axis = plt.subplots()\n",
    "    # Grid lines, Xticks, Xlabel, Ylabel\n",
    "\n",
    "    axis.grid(True)\n",
    "    axis.set_title('Scatter Plot',fontsize=22)\n",
    "    axis.set_xlabel(x,fontsize=14)\n",
    "    axis.set_ylabel(y,fontsize=14)\n",
    "\n",
    "    X = df[x]\n",
    "    Y = df[y]\n",
    "\n",
    "    axis.scatter(X, Y)\n",
    "    plt.show()\n",
    "    "
   ]
  },
  {
   "cell_type": "code",
   "execution_count": 17,
   "metadata": {},
   "outputs": [
    {
     "data": {
      "image/png": "[encoded data removed]",
      "text/plain": [
       "<Figure size 432x288 with 1 Axes>"
      ]
     },
     "metadata": {
      "needs_background": "light"
     },
     "output_type": "display_data"
    }
   ],
   "source": [
    "plot_scatter(genres_with_ratings,'releases','mean_ratings')\n"
   ]
  }
 ],
 "metadata": {
  "kernelspec": {
   "display_name": "Python 3",
   "language": "python",
   "name": "python3"
  },
  "language_info": {
   "codemirror_mode": {
    "name": "ipython",
    "version": 3
   },
   "file_extension": ".py",
   "mimetype": "text/x-python",
   "name": "python",
   "nbconvert_exporter": "python",
   "pygments_lexer": "ipython3",
   "version": "3.7.6"
  }
 },
 "nbformat": 4,
 "nbformat_minor": 4
}
